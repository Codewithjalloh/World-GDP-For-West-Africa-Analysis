{
 "cells": [
  {
   "cell_type": "markdown",
   "metadata": {},
   "source": [
    "# World GDP For West Africa Analysis"
   ]
  },
  {
   "cell_type": "code",
   "execution_count": 1,
   "metadata": {},
   "outputs": [],
   "source": [
    "import pandas as pd\n",
    "import seaborn as sns\n",
    "import matplotlib.pyplot as plt\n",
    "\n",
    "# Load the data from CSV file\n",
    "df = pd.read_csv('gdp_csv.csv')"
   ]
  },
  {
   "cell_type": "code",
   "execution_count": 2,
   "metadata": {},
   "outputs": [
    {
     "data": {
      "text/html": [
       "<div>\n",
       "<style scoped>\n",
       "    .dataframe tbody tr th:only-of-type {\n",
       "        vertical-align: middle;\n",
       "    }\n",
       "\n",
       "    .dataframe tbody tr th {\n",
       "        vertical-align: top;\n",
       "    }\n",
       "\n",
       "    .dataframe thead th {\n",
       "        text-align: right;\n",
       "    }\n",
       "</style>\n",
       "<table border=\"1\" class=\"dataframe\">\n",
       "  <thead>\n",
       "    <tr style=\"text-align: right;\">\n",
       "      <th></th>\n",
       "      <th>Country Name</th>\n",
       "      <th>Country Code</th>\n",
       "      <th>Year</th>\n",
       "      <th>Value</th>\n",
       "    </tr>\n",
       "  </thead>\n",
       "  <tbody>\n",
       "    <tr>\n",
       "      <td>0</td>\n",
       "      <td>Arab World</td>\n",
       "      <td>ARB</td>\n",
       "      <td>1968</td>\n",
       "      <td>2.576068e+10</td>\n",
       "    </tr>\n",
       "    <tr>\n",
       "      <td>1</td>\n",
       "      <td>Arab World</td>\n",
       "      <td>ARB</td>\n",
       "      <td>1969</td>\n",
       "      <td>2.843420e+10</td>\n",
       "    </tr>\n",
       "    <tr>\n",
       "      <td>2</td>\n",
       "      <td>Arab World</td>\n",
       "      <td>ARB</td>\n",
       "      <td>1970</td>\n",
       "      <td>3.138550e+10</td>\n",
       "    </tr>\n",
       "    <tr>\n",
       "      <td>3</td>\n",
       "      <td>Arab World</td>\n",
       "      <td>ARB</td>\n",
       "      <td>1971</td>\n",
       "      <td>3.642691e+10</td>\n",
       "    </tr>\n",
       "    <tr>\n",
       "      <td>4</td>\n",
       "      <td>Arab World</td>\n",
       "      <td>ARB</td>\n",
       "      <td>1972</td>\n",
       "      <td>4.331606e+10</td>\n",
       "    </tr>\n",
       "  </tbody>\n",
       "</table>\n",
       "</div>"
      ],
      "text/plain": [
       "  Country Name Country Code  Year         Value\n",
       "0   Arab World          ARB  1968  2.576068e+10\n",
       "1   Arab World          ARB  1969  2.843420e+10\n",
       "2   Arab World          ARB  1970  3.138550e+10\n",
       "3   Arab World          ARB  1971  3.642691e+10\n",
       "4   Arab World          ARB  1972  4.331606e+10"
      ]
     },
     "execution_count": 2,
     "metadata": {},
     "output_type": "execute_result"
    }
   ],
   "source": [
    "df.head()"
   ]
  },
  {
   "cell_type": "code",
   "execution_count": 3,
   "metadata": {},
   "outputs": [
    {
     "data": {
      "text/html": [
       "<div>\n",
       "<style scoped>\n",
       "    .dataframe tbody tr th:only-of-type {\n",
       "        vertical-align: middle;\n",
       "    }\n",
       "\n",
       "    .dataframe tbody tr th {\n",
       "        vertical-align: top;\n",
       "    }\n",
       "\n",
       "    .dataframe thead th {\n",
       "        text-align: right;\n",
       "    }\n",
       "</style>\n",
       "<table border=\"1\" class=\"dataframe\">\n",
       "  <thead>\n",
       "    <tr style=\"text-align: right;\">\n",
       "      <th></th>\n",
       "      <th>Country Name</th>\n",
       "      <th>Country Code</th>\n",
       "      <th>Year</th>\n",
       "      <th>Value</th>\n",
       "    </tr>\n",
       "  </thead>\n",
       "  <tbody>\n",
       "    <tr>\n",
       "      <td>11502</td>\n",
       "      <td>Zimbabwe</td>\n",
       "      <td>ZWE</td>\n",
       "      <td>2012</td>\n",
       "      <td>1.424249e+10</td>\n",
       "    </tr>\n",
       "    <tr>\n",
       "      <td>11503</td>\n",
       "      <td>Zimbabwe</td>\n",
       "      <td>ZWE</td>\n",
       "      <td>2013</td>\n",
       "      <td>1.545177e+10</td>\n",
       "    </tr>\n",
       "    <tr>\n",
       "      <td>11504</td>\n",
       "      <td>Zimbabwe</td>\n",
       "      <td>ZWE</td>\n",
       "      <td>2014</td>\n",
       "      <td>1.589105e+10</td>\n",
       "    </tr>\n",
       "    <tr>\n",
       "      <td>11505</td>\n",
       "      <td>Zimbabwe</td>\n",
       "      <td>ZWE</td>\n",
       "      <td>2015</td>\n",
       "      <td>1.630467e+10</td>\n",
       "    </tr>\n",
       "    <tr>\n",
       "      <td>11506</td>\n",
       "      <td>Zimbabwe</td>\n",
       "      <td>ZWE</td>\n",
       "      <td>2016</td>\n",
       "      <td>1.661996e+10</td>\n",
       "    </tr>\n",
       "  </tbody>\n",
       "</table>\n",
       "</div>"
      ],
      "text/plain": [
       "      Country Name Country Code  Year         Value\n",
       "11502     Zimbabwe          ZWE  2012  1.424249e+10\n",
       "11503     Zimbabwe          ZWE  2013  1.545177e+10\n",
       "11504     Zimbabwe          ZWE  2014  1.589105e+10\n",
       "11505     Zimbabwe          ZWE  2015  1.630467e+10\n",
       "11506     Zimbabwe          ZWE  2016  1.661996e+10"
      ]
     },
     "execution_count": 3,
     "metadata": {},
     "output_type": "execute_result"
    }
   ],
   "source": [
    "df.tail()"
   ]
  },
  {
   "cell_type": "code",
   "execution_count": 4,
   "metadata": {},
   "outputs": [],
   "source": [
    "# Filter data for countries in Africa\n",
    "africa_df = df[df['Country Name'].str.contains('Africa')]"
   ]
  },
  {
   "cell_type": "code",
   "execution_count": 5,
   "metadata": {},
   "outputs": [
    {
     "name": "stdout",
     "output_type": "stream",
     "text": [
      "Unique country names in Africa: ['Middle East & North Africa'\n",
      " 'Middle East & North Africa (excluding high income)'\n",
      " 'Middle East & North Africa (IDA & IBRD countries)' 'Sub-Saharan Africa'\n",
      " 'Sub-Saharan Africa (excluding high income)'\n",
      " 'Sub-Saharan Africa (IDA & IBRD countries)' 'Central African Republic'\n",
      " 'South Africa']\n"
     ]
    }
   ],
   "source": [
    "# 1. What are the unique country names in Africa?\n",
    "unique_countries = africa_df['Country Name'].unique()\n",
    "print(\"Unique country names in Africa:\", unique_countries)"
   ]
  },
  {
   "cell_type": "code",
   "execution_count": 6,
   "metadata": {},
   "outputs": [
    {
     "name": "stdout",
     "output_type": "stream",
     "text": [
      "Maximum value in Africa: 3563559183199.12\n"
     ]
    }
   ],
   "source": [
    "# 2. What is the maximum value recorded in Africa?\n",
    "max_value = africa_df['Value'].max()\n",
    "print(\"Maximum value in Africa:\", max_value)"
   ]
  },
  {
   "cell_type": "code",
   "execution_count": 7,
   "metadata": {},
   "outputs": [
    {
     "name": "stdout",
     "output_type": "stream",
     "text": [
      "Number of unique country codes in Africa: 8\n"
     ]
    }
   ],
   "source": [
    "# 3. How many unique country codes are there in Africa?\n",
    "unique_country_codes = africa_df['Country Code'].nunique()\n",
    "print(\"Number of unique country codes in Africa:\", unique_country_codes)"
   ]
  },
  {
   "cell_type": "code",
   "execution_count": 8,
   "metadata": {},
   "outputs": [
    {
     "name": "stdout",
     "output_type": "stream",
     "text": [
      "Average value in Africa: 461319857544.2016\n"
     ]
    }
   ],
   "source": [
    "# 4. What is the average value in Africa?\n",
    "average_value = africa_df['Value'].mean()\n",
    "print(\"Average value in Africa:\", average_value)"
   ]
  },
  {
   "cell_type": "code",
   "execution_count": 9,
   "metadata": {},
   "outputs": [
    {
     "name": "stdout",
     "output_type": "stream",
     "text": [
      "Number of years available for countries in Africa: 57\n"
     ]
    },
    {
     "data": {
      "image/png": "[encoded data removed]",
      "text/plain": [
       "<Figure size 720x432 with 1 Axes>"
      ]
     },
     "metadata": {
      "needs_background": "light"
     },
     "output_type": "display_data"
    }
   ],
   "source": [
    "# 5. How many years of data are available for countries in Africa?\n",
    "years_available = africa_df['Year'].nunique()\n",
    "print(\"Number of years available for countries in Africa:\", years_available)\n",
    "\n",
    "# Bar plot: Value by Country in Africa\n",
    "plt.figure(figsize=(10, 6))\n",
    "sns.barplot(data=africa_df, x='Country Name', y='Value')\n",
    "plt.title(\"Value by Country in Africa\")\n",
    "plt.xlabel(\"Country Name\")\n",
    "plt.ylabel(\"Value\")\n",
    "plt.xticks(rotation=45)\n",
    "plt.show()"
   ]
  },
  {
   "cell_type": "code",
   "execution_count": 18,
   "metadata": {},
   "outputs": [
    {
     "name": "stdout",
     "output_type": "stream",
     "text": [
      "No data available for Guinea in 1974\n"
     ]
    }
   ],
   "source": [
    "# 6. What is the value for a specific country in Africa (e.g., 'Nigeria') in the year 1974?\n",
    "country = 'Guinea'\n",
    "year = 1974\n",
    "\n",
    "country_data = africa_df[(africa_df['Country Name'] == country) & (africa_df['Year'] == year)]\n",
    "\n",
    "if not country_data.empty:\n",
    "    value_1974 = country_data['Value'].item()\n",
    "    print(\"Value for\", country, \"in\", year, \":\", value_1974)\n",
    "else:\n",
    "    print(\"No data available for\", country, \"in\", year)\n"
   ]
  },
  {
   "cell_type": "code",
   "execution_count": 22,
   "metadata": {},
   "outputs": [
    {
     "name": "stdout",
     "output_type": "stream",
     "text": [
      "Country in Africa with the highest value in 1969 : Sub-Saharan Africa\n"
     ]
    }
   ],
   "source": [
    "# 7. Which country in Africa had the highest value in a specific year (e.g., 1969)?\n",
    "year = 1969\n",
    "\n",
    "year_data = africa_df[africa_df['Year'] == year]\n",
    "\n",
    "if not year_data.empty:\n",
    "    country_with_highest_value = year_data.loc[year_data['Value'].idxmax(), 'Country Name']\n",
    "    print(\"Country in Africa with the highest value in\", year, \":\", country_with_highest_value)\n",
    "else:\n",
    "    print(\"No data available for the specified year in Africa.\")\n"
   ]
  },
  {
   "cell_type": "code",
   "execution_count": 13,
   "metadata": {},
   "outputs": [
    {
     "name": "stdout",
     "output_type": "stream",
     "text": [
      "Total value by country in Africa:\n",
      " Country Name\n",
      "Central African Republic                              5.258429e+10\n",
      "Middle East & North Africa                            5.141231e+13\n",
      "Middle East & North Africa (IDA & IBRD countries)     2.055844e+13\n",
      "Middle East & North Africa (excluding high income)    2.071490e+13\n",
      "South Africa                                          7.485296e+12\n",
      "Sub-Saharan Africa                                    2.534178e+13\n",
      "Sub-Saharan Africa (IDA & IBRD countries)             2.534178e+13\n",
      "Sub-Saharan Africa (excluding high income)            2.531708e+13\n",
      "Name: Value, dtype: float64\n"
     ]
    },
    {
     "data": {
      "image/png": "[encoded data removed]",
      "text/plain": [
       "<Figure size 576x576 with 1 Axes>"
      ]
     },
     "metadata": {},
     "output_type": "display_data"
    }
   ],
   "source": [
    "# 8. What is the total value for each country in Africa?\n",
    "total_value_by_country = africa_df.groupby('Country Name')['Value'].sum()\n",
    "print(\"Total value by country in Africa:\\n\", total_value_by_country)\n",
    "\n",
    "# Pie chart: Total Value by Country in Africa\n",
    "plt.figure(figsize=(8, 8))\n",
    "country_labels = total_value_by_country.index\n",
    "country_values = total_value_by_country.values\n",
    "plt.pie(country_values, labels=country_labels, autopct='%1.1f%%')\n",
    "plt.title(\"Total Value by Country in Africa\")\n",
    "plt.show()"
   ]
  },
  {
   "cell_type": "code",
   "execution_count": 28,
   "metadata": {},
   "outputs": [
    {
     "name": "stdout",
     "output_type": "stream",
     "text": [
      "No data available for the specified country in Africa.\n"
     ]
    }
   ],
   "source": [
    "# 9. What is the value for a specific country in Africa (e.g., 'Egypt') in each year?\n",
    "country = 'Guinea'\n",
    "\n",
    "country_data = africa_df[africa_df['Country Name'] == country]\n",
    "\n",
    "if not country_data.empty:\n",
    "    value_by_year_for_country = country_data[['Year', 'Value']]\n",
    "    print(\"Value for\", country, \"in each year in Africa:\\n\", value_by_year_for_country)\n",
    "\n",
    "    # Line plot: Value by Year for a specific country in Africa\n",
    "    plt.figure(figsize=(10, 6))\n",
    "    sns.lineplot(data=value_by_year_for_country, x='Year', y='Value')\n",
    "    plt.title(\"Value by Year for \" + country + \" in Africa\")\n",
    "    plt.xlabel(\"Year\")\n",
    "    plt.ylabel(\"Value\")\n",
    "    plt.show()\n",
    "else:\n",
    "    print(\"No data available for the specified country in Africa.\")\n"
   ]
  },
  {
   "cell_type": "code",
   "execution_count": 17,
   "metadata": {},
   "outputs": [
    {
     "name": "stdout",
     "output_type": "stream",
     "text": [
      "Missing data in the dataset for countries in Africa: False\n"
     ]
    }
   ],
   "source": [
    "# 10. Is there any missing data (NaN) in the dataset for countries in Africa?\n",
    "missing_data = africa_df.isnull().values.any()\n",
    "print(\"Missing data in the dataset for countries in Africa:\", missing_data)"
   ]
  },
  {
   "cell_type": "code",
   "execution_count": null,
   "metadata": {},
   "outputs": [],
   "source": []
  },
  {
   "cell_type": "markdown",
   "metadata": {},
   "source": [
    "## Focus On West Africa Only"
   ]
  },
  {
   "cell_type": "code",
   "execution_count": 29,
   "metadata": {},
   "outputs": [],
   "source": [
    "# Filter the dataset for West Africa countries\n",
    "west_africa_countries = ['Nigeria', 'Ghana', 'Senegal', 'Cote d\\'Ivoire', 'Mali']\n",
    "west_africa_df = df[df['Country Name'].isin(west_africa_countries)]"
   ]
  },
  {
   "cell_type": "code",
   "execution_count": 40,
   "metadata": {},
   "outputs": [
    {
     "name": "stdout",
     "output_type": "stream",
     "text": [
      "West African country with the highest value in 2000 : Nigeria\n"
     ]
    }
   ],
   "source": [
    "# 1. Which West African country had the highest value in a specific year (e.g., 1990)?\n",
    "year = 2000\n",
    "year_data = west_africa_df[west_africa_df['Year'] == year]\n",
    "\n",
    "if not year_data.empty:\n",
    "    country_with_highest_value = year_data.loc[year_data['Value'].idxmax(), 'Country Name']\n",
    "    print(\"West African country with the highest value in\", year, \":\", country_with_highest_value)\n",
    "else:\n",
    "    print(\"No valid data available for the specified year and West African countries.\")\n"
   ]
  },
  {
   "cell_type": "code",
   "execution_count": 32,
   "metadata": {},
   "outputs": [
    {
     "name": "stdout",
     "output_type": "stream",
     "text": [
      "Average value by West African country:\n",
      " Country Name\n",
      "Cote d'Ivoire    1.109746e+10\n",
      "Ghana            1.020583e+10\n",
      "Mali             4.121091e+09\n",
      "Nigeria          9.262515e+10\n",
      "Senegal          5.313464e+09\n",
      "Name: Value, dtype: float64\n"
     ]
    },
    {
     "data": {
      "image/png": "[encoded data removed]",
      "text/plain": [
       "<Figure size 576x432 with 1 Axes>"
      ]
     },
     "metadata": {
      "needs_background": "light"
     },
     "output_type": "display_data"
    }
   ],
   "source": [
    "# 2. What is the average value for each West African country?\n",
    "average_value_by_country = west_africa_df.groupby('Country Name')['Value'].mean()\n",
    "print(\"Average value by West African country:\\n\", average_value_by_country)\n",
    "\n",
    "# Bar plot: Average Value by West African Country\n",
    "plt.figure(figsize=(8, 6))\n",
    "sns.barplot(data=west_africa_df, x='Country Name', y='Value')\n",
    "plt.title(\"Average Value by West African Country\")\n",
    "plt.xlabel(\"Country Name\")\n",
    "plt.ylabel(\"Value\")\n",
    "plt.xticks(rotation=45)\n",
    "plt.show()\n"
   ]
  },
  {
   "cell_type": "code",
   "execution_count": 41,
   "metadata": {},
   "outputs": [
    {
     "name": "stdout",
     "output_type": "stream",
     "text": [
      "Total value by year in West Africa:\n",
      " Year\n",
      "1960    6.752351e+09\n",
      "1961    7.224613e+09\n",
      "1962    7.794529e+09\n",
      "1963    8.353721e+09\n",
      "1964    9.144328e+09\n",
      "1965    9.803492e+09\n",
      "1966    1.050214e+10\n",
      "1967    9.293346e+09\n",
      "1968    9.527152e+09\n",
      "1969    1.128113e+10\n",
      "1970    1.760097e+10\n",
      "1971    1.467122e+10\n",
      "1972    1.800306e+10\n",
      "1973    2.217238e+10\n",
      "1974    3.300822e+10\n",
      "1975    3.754934e+10\n",
      "1976    4.694228e+10\n",
      "1977    4.886053e+10\n",
      "1978    5.190475e+10\n",
      "1979    6.524518e+10\n",
      "1980    8.408560e+10\n",
      "1981    7.844727e+10\n",
      "1982    6.744400e+10\n",
      "1983    5.041899e+10\n",
      "1984    4.369320e+10\n",
      "1985    4.471037e+10\n",
      "1986    4.164943e+10\n",
      "1987    4.638702e+10\n",
      "1988    4.587937e+10\n",
      "1989    4.633523e+10\n",
      "1990    5.584066e+10\n",
      "1991    5.282343e+10\n",
      "1992    5.570334e+10\n",
      "1993    4.129813e+10\n",
      "1994    3.780356e+10\n",
      "1995    5.359739e+10\n",
      "1996    6.190842e+10\n",
      "1997    6.180540e+10\n",
      "1998    6.004832e+10\n",
      "1999    6.455030e+10\n",
      "2000    6.971979e+10\n",
      "2001    6.898837e+10\n",
      "2002    8.685372e+10\n",
      "2003    1.021573e+11\n",
      "2004    1.267570e+11\n",
      "2005    1.550170e+11\n",
      "2006    1.998984e+11\n",
      "2007    2.309840e+11\n",
      "2008    2.840064e+11\n",
      "2009    2.427326e+11\n",
      "2010    4.497494e+11\n",
      "2011    5.040606e+11\n",
      "2012    5.566022e+11\n",
      "2013    6.221419e+11\n",
      "2014    6.721808e+11\n",
      "2015    5.784953e+11\n",
      "2016    5.124338e+11\n",
      "Name: Value, dtype: float64\n"
     ]
    },
    {
     "data": {
      "image/png": "[encoded data removed]",
      "text/plain": [
       "<Figure size 720x432 with 1 Axes>"
      ]
     },
     "metadata": {
      "needs_background": "light"
     },
     "output_type": "display_data"
    }
   ],
   "source": [
    "# 3. What is the total value for each year in West Africa?\n",
    "total_value_by_year = west_africa_df.groupby('Year')['Value'].sum()\n",
    "print(\"Total value by year in West Africa:\\n\", total_value_by_year)\n",
    "\n",
    "# Line plot: Total Value by Year in West Africa\n",
    "plt.figure(figsize=(10, 6))\n",
    "sns.lineplot(data=total_value_by_year)\n",
    "plt.title(\"Total Value by Year in West Africa\")\n",
    "plt.xlabel(\"Year\")\n",
    "plt.ylabel(\"Value\")\n",
    "plt.show()\n"
   ]
  },
  {
   "cell_type": "markdown",
   "metadata": {},
   "source": [
    "## Go Down To Nigeria and Ghana"
   ]
  },
  {
   "cell_type": "code",
   "execution_count": 68,
   "metadata": {},
   "outputs": [
    {
     "data": {
      "text/html": [
       "<div>\n",
       "<style scoped>\n",
       "    .dataframe tbody tr th:only-of-type {\n",
       "        vertical-align: middle;\n",
       "    }\n",
       "\n",
       "    .dataframe tbody tr th {\n",
       "        vertical-align: top;\n",
       "    }\n",
       "\n",
       "    .dataframe thead th {\n",
       "        text-align: right;\n",
       "    }\n",
       "</style>\n",
       "<table border=\"1\" class=\"dataframe\">\n",
       "  <thead>\n",
       "    <tr style=\"text-align: right;\">\n",
       "      <th></th>\n",
       "      <th>Country Name</th>\n",
       "      <th>Country Code</th>\n",
       "      <th>Year</th>\n",
       "      <th>Value</th>\n",
       "    </tr>\n",
       "  </thead>\n",
       "  <tbody>\n",
       "    <tr>\n",
       "      <td>8420</td>\n",
       "      <td>Nigeria</td>\n",
       "      <td>NGA</td>\n",
       "      <td>1960</td>\n",
       "      <td>4.196092e+09</td>\n",
       "    </tr>\n",
       "    <tr>\n",
       "      <td>8421</td>\n",
       "      <td>Nigeria</td>\n",
       "      <td>NGA</td>\n",
       "      <td>1961</td>\n",
       "      <td>4.467200e+09</td>\n",
       "    </tr>\n",
       "    <tr>\n",
       "      <td>8422</td>\n",
       "      <td>Nigeria</td>\n",
       "      <td>NGA</td>\n",
       "      <td>1962</td>\n",
       "      <td>4.909303e+09</td>\n",
       "    </tr>\n",
       "    <tr>\n",
       "      <td>8423</td>\n",
       "      <td>Nigeria</td>\n",
       "      <td>NGA</td>\n",
       "      <td>1963</td>\n",
       "      <td>5.165489e+09</td>\n",
       "    </tr>\n",
       "    <tr>\n",
       "      <td>8424</td>\n",
       "      <td>Nigeria</td>\n",
       "      <td>NGA</td>\n",
       "      <td>1964</td>\n",
       "      <td>5.552822e+09</td>\n",
       "    </tr>\n",
       "  </tbody>\n",
       "</table>\n",
       "</div>"
      ],
      "text/plain": [
       "     Country Name Country Code  Year         Value\n",
       "8420      Nigeria          NGA  1960  4.196092e+09\n",
       "8421      Nigeria          NGA  1961  4.467200e+09\n",
       "8422      Nigeria          NGA  1962  4.909303e+09\n",
       "8423      Nigeria          NGA  1963  5.165489e+09\n",
       "8424      Nigeria          NGA  1964  5.552822e+09"
      ]
     },
     "execution_count": 68,
     "metadata": {},
     "output_type": "execute_result"
    }
   ],
   "source": [
    "# Filter data for Nigeria\n",
    "nigeria_data = west_africa_df[west_africa_df['Country Name'] == 'Nigeria']\n",
    "nigeria_data.head()"
   ]
  },
  {
   "cell_type": "code",
   "execution_count": 70,
   "metadata": {},
   "outputs": [
    {
     "name": "stdout",
     "output_type": "stream",
     "text": [
      "Unique years available for Nigeria: [1960 1961 1962 1963 1964 1965 1966 1967 1968 1969 1970 1971 1972 1973\n",
      " 1974 1975 1976 1977 1978 1979 1980 1981 1982 1983 1984 1985 1986 1987\n",
      " 1988 1989 1990 1991 1992 1993 1994 1995 1996 1997 1998 1999 2000 2001\n",
      " 2002 2003 2004 2005 2006 2007 2008 2009 2010 2011 2012 2013 2014 2015\n",
      " 2016]\n"
     ]
    }
   ],
   "source": [
    "# 1. What are the unique years available for Nigeria?\n",
    "nigeria_unique_years = nigeria_data['Year'].unique()\n",
    "print(\"Unique years available for Nigeria:\", nigeria_unique_years)\n"
   ]
  },
  {
   "cell_type": "code",
   "execution_count": 65,
   "metadata": {},
   "outputs": [
    {
     "name": "stdout",
     "output_type": "stream",
     "text": [
      "Total value by year in Nigeria:\n",
      " Year\n",
      "1960    4.196092e+09\n",
      "1961    4.467200e+09\n",
      "1962    4.909303e+09\n",
      "1963    5.165489e+09\n",
      "1964    5.552822e+09\n",
      "1965    5.874423e+09\n",
      "1966    6.366793e+09\n",
      "1967    5.203136e+09\n",
      "1968    5.200896e+09\n",
      "1969    6.634187e+09\n",
      "1970    1.254585e+10\n",
      "1971    9.181770e+09\n",
      "1972    1.227442e+10\n",
      "1973    1.516287e+10\n",
      "1974    2.484664e+10\n",
      "1975    2.777893e+10\n",
      "1976    3.630888e+10\n",
      "1977    3.603541e+10\n",
      "1978    3.652786e+10\n",
      "1979    4.725991e+10\n",
      "1980    6.420179e+10\n",
      "1981    6.107649e+10\n",
      "1982    5.139746e+10\n",
      "1983    3.545157e+10\n",
      "1984    2.850082e+10\n",
      "1985    2.887398e+10\n",
      "1986    2.072150e+10\n",
      "1987    2.409320e+10\n",
      "1988    2.327216e+10\n",
      "1989    2.423117e+10\n",
      "1990    3.075708e+10\n",
      "1991    2.739289e+10\n",
      "1992    2.930090e+10\n",
      "1993    1.578900e+10\n",
      "1994    1.808640e+10\n",
      "1995    2.854696e+10\n",
      "1996    3.498795e+10\n",
      "1997    3.582234e+10\n",
      "1998    3.200461e+10\n",
      "1999    3.587079e+10\n",
      "2000    4.638601e+10\n",
      "2001    4.413799e+10\n",
      "2002    5.911685e+10\n",
      "2003    6.765581e+10\n",
      "2004    8.784542e+10\n",
      "2005    1.122484e+11\n",
      "2006    1.454298e+11\n",
      "2007    1.664512e+11\n",
      "2008    2.080648e+11\n",
      "2009    1.694813e+11\n",
      "2010    3.690625e+11\n",
      "2011    4.117438e+11\n",
      "2012    4.609538e+11\n",
      "2013    5.149663e+11\n",
      "2014    5.684989e+11\n",
      "2015    4.810662e+11\n",
      "2016    4.046527e+11\n",
      "Name: Value, dtype: float64\n"
     ]
    }
   ],
   "source": [
    "# 2. What is the total value for each year in Nigeria?\n",
    "nigeria_total_value_by_year = nigeria_data.groupby('Year')['Value'].sum()\n",
    "print(\"Total value by year in Nigeria:\\n\", nigeria_total_value_by_year)\n"
   ]
  },
  {
   "cell_type": "code",
   "execution_count": 67,
   "metadata": {},
   "outputs": [
    {
     "data": {
      "image/png": "[encoded data removed]",
      "text/plain": [
       "<Figure size 720x432 with 1 Axes>"
      ]
     },
     "metadata": {
      "needs_background": "light"
     },
     "output_type": "display_data"
    }
   ],
   "source": [
    "# Line plot: Total Value by Year in Nigeria\n",
    "plt.figure(figsize=(10, 6))\n",
    "plt.plot(nigeria_total_value_by_year.index, nigeria_total_value_by_year.values)\n",
    "plt.title(\"Total Value by Year in Nigeria\")\n",
    "plt.xlabel(\"Year\")\n",
    "plt.ylabel(\"Value\")\n",
    "plt.show()\n"
   ]
  },
  {
   "cell_type": "code",
   "execution_count": 71,
   "metadata": {},
   "outputs": [
    {
     "data": {
      "text/html": [
       "<div>\n",
       "<style scoped>\n",
       "    .dataframe tbody tr th:only-of-type {\n",
       "        vertical-align: middle;\n",
       "    }\n",
       "\n",
       "    .dataframe tbody tr th {\n",
       "        vertical-align: top;\n",
       "    }\n",
       "\n",
       "    .dataframe thead th {\n",
       "        text-align: right;\n",
       "    }\n",
       "</style>\n",
       "<table border=\"1\" class=\"dataframe\">\n",
       "  <thead>\n",
       "    <tr style=\"text-align: right;\">\n",
       "      <th></th>\n",
       "      <th>Country Name</th>\n",
       "      <th>Country Code</th>\n",
       "      <th>Year</th>\n",
       "      <th>Value</th>\n",
       "    </tr>\n",
       "  </thead>\n",
       "  <tbody>\n",
       "    <tr>\n",
       "      <td>5444</td>\n",
       "      <td>Ghana</td>\n",
       "      <td>GHA</td>\n",
       "      <td>1960</td>\n",
       "      <td>1.217230e+09</td>\n",
       "    </tr>\n",
       "    <tr>\n",
       "      <td>5445</td>\n",
       "      <td>Ghana</td>\n",
       "      <td>GHA</td>\n",
       "      <td>1961</td>\n",
       "      <td>1.302674e+09</td>\n",
       "    </tr>\n",
       "    <tr>\n",
       "      <td>5446</td>\n",
       "      <td>Ghana</td>\n",
       "      <td>GHA</td>\n",
       "      <td>1962</td>\n",
       "      <td>1.382516e+09</td>\n",
       "    </tr>\n",
       "    <tr>\n",
       "      <td>5447</td>\n",
       "      <td>Ghana</td>\n",
       "      <td>GHA</td>\n",
       "      <td>1963</td>\n",
       "      <td>1.540798e+09</td>\n",
       "    </tr>\n",
       "    <tr>\n",
       "      <td>5448</td>\n",
       "      <td>Ghana</td>\n",
       "      <td>GHA</td>\n",
       "      <td>1964</td>\n",
       "      <td>1.731296e+09</td>\n",
       "    </tr>\n",
       "    <tr>\n",
       "      <td>5449</td>\n",
       "      <td>Ghana</td>\n",
       "      <td>GHA</td>\n",
       "      <td>1965</td>\n",
       "      <td>2.053463e+09</td>\n",
       "    </tr>\n",
       "    <tr>\n",
       "      <td>5450</td>\n",
       "      <td>Ghana</td>\n",
       "      <td>GHA</td>\n",
       "      <td>1966</td>\n",
       "      <td>2.126301e+09</td>\n",
       "    </tr>\n",
       "    <tr>\n",
       "      <td>5451</td>\n",
       "      <td>Ghana</td>\n",
       "      <td>GHA</td>\n",
       "      <td>1967</td>\n",
       "      <td>1.747188e+09</td>\n",
       "    </tr>\n",
       "    <tr>\n",
       "      <td>5452</td>\n",
       "      <td>Ghana</td>\n",
       "      <td>GHA</td>\n",
       "      <td>1968</td>\n",
       "      <td>1.666910e+09</td>\n",
       "    </tr>\n",
       "    <tr>\n",
       "      <td>5453</td>\n",
       "      <td>Ghana</td>\n",
       "      <td>GHA</td>\n",
       "      <td>1969</td>\n",
       "      <td>1.962051e+09</td>\n",
       "    </tr>\n",
       "    <tr>\n",
       "      <td>5454</td>\n",
       "      <td>Ghana</td>\n",
       "      <td>GHA</td>\n",
       "      <td>1970</td>\n",
       "      <td>2.215029e+09</td>\n",
       "    </tr>\n",
       "    <tr>\n",
       "      <td>5455</td>\n",
       "      <td>Ghana</td>\n",
       "      <td>GHA</td>\n",
       "      <td>1971</td>\n",
       "      <td>2.417109e+09</td>\n",
       "    </tr>\n",
       "    <tr>\n",
       "      <td>5456</td>\n",
       "      <td>Ghana</td>\n",
       "      <td>GHA</td>\n",
       "      <td>1972</td>\n",
       "      <td>2.112293e+09</td>\n",
       "    </tr>\n",
       "    <tr>\n",
       "      <td>5457</td>\n",
       "      <td>Ghana</td>\n",
       "      <td>GHA</td>\n",
       "      <td>1973</td>\n",
       "      <td>2.465493e+09</td>\n",
       "    </tr>\n",
       "    <tr>\n",
       "      <td>5458</td>\n",
       "      <td>Ghana</td>\n",
       "      <td>GHA</td>\n",
       "      <td>1974</td>\n",
       "      <td>2.894410e+09</td>\n",
       "    </tr>\n",
       "    <tr>\n",
       "      <td>5459</td>\n",
       "      <td>Ghana</td>\n",
       "      <td>GHA</td>\n",
       "      <td>1975</td>\n",
       "      <td>2.810106e+09</td>\n",
       "    </tr>\n",
       "    <tr>\n",
       "      <td>5460</td>\n",
       "      <td>Ghana</td>\n",
       "      <td>GHA</td>\n",
       "      <td>1976</td>\n",
       "      <td>2.765254e+09</td>\n",
       "    </tr>\n",
       "    <tr>\n",
       "      <td>5461</td>\n",
       "      <td>Ghana</td>\n",
       "      <td>GHA</td>\n",
       "      <td>1977</td>\n",
       "      <td>3.189429e+09</td>\n",
       "    </tr>\n",
       "    <tr>\n",
       "      <td>5462</td>\n",
       "      <td>Ghana</td>\n",
       "      <td>GHA</td>\n",
       "      <td>1978</td>\n",
       "      <td>3.662478e+09</td>\n",
       "    </tr>\n",
       "    <tr>\n",
       "      <td>5463</td>\n",
       "      <td>Ghana</td>\n",
       "      <td>GHA</td>\n",
       "      <td>1979</td>\n",
       "      <td>4.020228e+09</td>\n",
       "    </tr>\n",
       "    <tr>\n",
       "      <td>5464</td>\n",
       "      <td>Ghana</td>\n",
       "      <td>GHA</td>\n",
       "      <td>1980</td>\n",
       "      <td>4.445228e+09</td>\n",
       "    </tr>\n",
       "    <tr>\n",
       "      <td>5465</td>\n",
       "      <td>Ghana</td>\n",
       "      <td>GHA</td>\n",
       "      <td>1981</td>\n",
       "      <td>4.222442e+09</td>\n",
       "    </tr>\n",
       "    <tr>\n",
       "      <td>5466</td>\n",
       "      <td>Ghana</td>\n",
       "      <td>GHA</td>\n",
       "      <td>1982</td>\n",
       "      <td>4.035994e+09</td>\n",
       "    </tr>\n",
       "    <tr>\n",
       "      <td>5467</td>\n",
       "      <td>Ghana</td>\n",
       "      <td>GHA</td>\n",
       "      <td>1983</td>\n",
       "      <td>4.057275e+09</td>\n",
       "    </tr>\n",
       "    <tr>\n",
       "      <td>5468</td>\n",
       "      <td>Ghana</td>\n",
       "      <td>GHA</td>\n",
       "      <td>1984</td>\n",
       "      <td>4.412280e+09</td>\n",
       "    </tr>\n",
       "    <tr>\n",
       "      <td>5469</td>\n",
       "      <td>Ghana</td>\n",
       "      <td>GHA</td>\n",
       "      <td>1985</td>\n",
       "      <td>4.504342e+09</td>\n",
       "    </tr>\n",
       "    <tr>\n",
       "      <td>5470</td>\n",
       "      <td>Ghana</td>\n",
       "      <td>GHA</td>\n",
       "      <td>1986</td>\n",
       "      <td>5.727603e+09</td>\n",
       "    </tr>\n",
       "    <tr>\n",
       "      <td>5471</td>\n",
       "      <td>Ghana</td>\n",
       "      <td>GHA</td>\n",
       "      <td>1987</td>\n",
       "      <td>5.074830e+09</td>\n",
       "    </tr>\n",
       "    <tr>\n",
       "      <td>5472</td>\n",
       "      <td>Ghana</td>\n",
       "      <td>GHA</td>\n",
       "      <td>1988</td>\n",
       "      <td>5.197841e+09</td>\n",
       "    </tr>\n",
       "    <tr>\n",
       "      <td>5473</td>\n",
       "      <td>Ghana</td>\n",
       "      <td>GHA</td>\n",
       "      <td>1989</td>\n",
       "      <td>5.251764e+09</td>\n",
       "    </tr>\n",
       "    <tr>\n",
       "      <td>5474</td>\n",
       "      <td>Ghana</td>\n",
       "      <td>GHA</td>\n",
       "      <td>1990</td>\n",
       "      <td>5.889175e+09</td>\n",
       "    </tr>\n",
       "    <tr>\n",
       "      <td>5475</td>\n",
       "      <td>Ghana</td>\n",
       "      <td>GHA</td>\n",
       "      <td>1991</td>\n",
       "      <td>6.596546e+09</td>\n",
       "    </tr>\n",
       "    <tr>\n",
       "      <td>5476</td>\n",
       "      <td>Ghana</td>\n",
       "      <td>GHA</td>\n",
       "      <td>1992</td>\n",
       "      <td>6.413902e+09</td>\n",
       "    </tr>\n",
       "    <tr>\n",
       "      <td>5477</td>\n",
       "      <td>Ghana</td>\n",
       "      <td>GHA</td>\n",
       "      <td>1993</td>\n",
       "      <td>5.966256e+09</td>\n",
       "    </tr>\n",
       "    <tr>\n",
       "      <td>5478</td>\n",
       "      <td>Ghana</td>\n",
       "      <td>GHA</td>\n",
       "      <td>1994</td>\n",
       "      <td>5.444561e+09</td>\n",
       "    </tr>\n",
       "    <tr>\n",
       "      <td>5479</td>\n",
       "      <td>Ghana</td>\n",
       "      <td>GHA</td>\n",
       "      <td>1995</td>\n",
       "      <td>6.465138e+09</td>\n",
       "    </tr>\n",
       "    <tr>\n",
       "      <td>5480</td>\n",
       "      <td>Ghana</td>\n",
       "      <td>GHA</td>\n",
       "      <td>1996</td>\n",
       "      <td>6.934985e+09</td>\n",
       "    </tr>\n",
       "    <tr>\n",
       "      <td>5481</td>\n",
       "      <td>Ghana</td>\n",
       "      <td>GHA</td>\n",
       "      <td>1997</td>\n",
       "      <td>6.891309e+09</td>\n",
       "    </tr>\n",
       "    <tr>\n",
       "      <td>5482</td>\n",
       "      <td>Ghana</td>\n",
       "      <td>GHA</td>\n",
       "      <td>1998</td>\n",
       "      <td>7.480969e+09</td>\n",
       "    </tr>\n",
       "    <tr>\n",
       "      <td>5483</td>\n",
       "      <td>Ghana</td>\n",
       "      <td>GHA</td>\n",
       "      <td>1999</td>\n",
       "      <td>7.719355e+09</td>\n",
       "    </tr>\n",
       "    <tr>\n",
       "      <td>5484</td>\n",
       "      <td>Ghana</td>\n",
       "      <td>GHA</td>\n",
       "      <td>2000</td>\n",
       "      <td>4.983024e+09</td>\n",
       "    </tr>\n",
       "    <tr>\n",
       "      <td>5485</td>\n",
       "      <td>Ghana</td>\n",
       "      <td>GHA</td>\n",
       "      <td>2001</td>\n",
       "      <td>5.314910e+09</td>\n",
       "    </tr>\n",
       "    <tr>\n",
       "      <td>5486</td>\n",
       "      <td>Ghana</td>\n",
       "      <td>GHA</td>\n",
       "      <td>2002</td>\n",
       "      <td>6.166330e+09</td>\n",
       "    </tr>\n",
       "    <tr>\n",
       "      <td>5487</td>\n",
       "      <td>Ghana</td>\n",
       "      <td>GHA</td>\n",
       "      <td>2003</td>\n",
       "      <td>7.632407e+09</td>\n",
       "    </tr>\n",
       "    <tr>\n",
       "      <td>5488</td>\n",
       "      <td>Ghana</td>\n",
       "      <td>GHA</td>\n",
       "      <td>2004</td>\n",
       "      <td>8.881369e+09</td>\n",
       "    </tr>\n",
       "    <tr>\n",
       "      <td>5489</td>\n",
       "      <td>Ghana</td>\n",
       "      <td>GHA</td>\n",
       "      <td>2005</td>\n",
       "      <td>1.073163e+10</td>\n",
       "    </tr>\n",
       "    <tr>\n",
       "      <td>5490</td>\n",
       "      <td>Ghana</td>\n",
       "      <td>GHA</td>\n",
       "      <td>2006</td>\n",
       "      <td>2.040926e+10</td>\n",
       "    </tr>\n",
       "    <tr>\n",
       "      <td>5491</td>\n",
       "      <td>Ghana</td>\n",
       "      <td>GHA</td>\n",
       "      <td>2007</td>\n",
       "      <td>2.475882e+10</td>\n",
       "    </tr>\n",
       "    <tr>\n",
       "      <td>5492</td>\n",
       "      <td>Ghana</td>\n",
       "      <td>GHA</td>\n",
       "      <td>2008</td>\n",
       "      <td>2.852689e+10</td>\n",
       "    </tr>\n",
       "    <tr>\n",
       "      <td>5493</td>\n",
       "      <td>Ghana</td>\n",
       "      <td>GHA</td>\n",
       "      <td>2009</td>\n",
       "      <td>2.597785e+10</td>\n",
       "    </tr>\n",
       "    <tr>\n",
       "      <td>5494</td>\n",
       "      <td>Ghana</td>\n",
       "      <td>GHA</td>\n",
       "      <td>2010</td>\n",
       "      <td>3.217477e+10</td>\n",
       "    </tr>\n",
       "    <tr>\n",
       "      <td>5495</td>\n",
       "      <td>Ghana</td>\n",
       "      <td>GHA</td>\n",
       "      <td>2011</td>\n",
       "      <td>3.956629e+10</td>\n",
       "    </tr>\n",
       "    <tr>\n",
       "      <td>5496</td>\n",
       "      <td>Ghana</td>\n",
       "      <td>GHA</td>\n",
       "      <td>2012</td>\n",
       "      <td>4.193973e+10</td>\n",
       "    </tr>\n",
       "    <tr>\n",
       "      <td>5497</td>\n",
       "      <td>Ghana</td>\n",
       "      <td>GHA</td>\n",
       "      <td>2013</td>\n",
       "      <td>4.780507e+10</td>\n",
       "    </tr>\n",
       "    <tr>\n",
       "      <td>5498</td>\n",
       "      <td>Ghana</td>\n",
       "      <td>GHA</td>\n",
       "      <td>2014</td>\n",
       "      <td>3.861654e+10</td>\n",
       "    </tr>\n",
       "    <tr>\n",
       "      <td>5499</td>\n",
       "      <td>Ghana</td>\n",
       "      <td>GHA</td>\n",
       "      <td>2015</td>\n",
       "      <td>3.754336e+10</td>\n",
       "    </tr>\n",
       "    <tr>\n",
       "      <td>5500</td>\n",
       "      <td>Ghana</td>\n",
       "      <td>GHA</td>\n",
       "      <td>2016</td>\n",
       "      <td>4.268978e+10</td>\n",
       "    </tr>\n",
       "  </tbody>\n",
       "</table>\n",
       "</div>"
      ],
      "text/plain": [
       "     Country Name Country Code  Year         Value\n",
       "5444        Ghana          GHA  1960  1.217230e+09\n",
       "5445        Ghana          GHA  1961  1.302674e+09\n",
       "5446        Ghana          GHA  1962  1.382516e+09\n",
       "5447        Ghana          GHA  1963  1.540798e+09\n",
       "5448        Ghana          GHA  1964  1.731296e+09\n",
       "5449        Ghana          GHA  1965  2.053463e+09\n",
       "5450        Ghana          GHA  1966  2.126301e+09\n",
       "5451        Ghana          GHA  1967  1.747188e+09\n",
       "5452        Ghana          GHA  1968  1.666910e+09\n",
       "5453        Ghana          GHA  1969  1.962051e+09\n",
       "5454        Ghana          GHA  1970  2.215029e+09\n",
       "5455        Ghana          GHA  1971  2.417109e+09\n",
       "5456        Ghana          GHA  1972  2.112293e+09\n",
       "5457        Ghana          GHA  1973  2.465493e+09\n",
       "5458        Ghana          GHA  1974  2.894410e+09\n",
       "5459        Ghana          GHA  1975  2.810106e+09\n",
       "5460        Ghana          GHA  1976  2.765254e+09\n",
       "5461        Ghana          GHA  1977  3.189429e+09\n",
       "5462        Ghana          GHA  1978  3.662478e+09\n",
       "5463        Ghana          GHA  1979  4.020228e+09\n",
       "5464        Ghana          GHA  1980  4.445228e+09\n",
       "5465        Ghana          GHA  1981  4.222442e+09\n",
       "5466        Ghana          GHA  1982  4.035994e+09\n",
       "5467        Ghana          GHA  1983  4.057275e+09\n",
       "5468        Ghana          GHA  1984  4.412280e+09\n",
       "5469        Ghana          GHA  1985  4.504342e+09\n",
       "5470        Ghana          GHA  1986  5.727603e+09\n",
       "5471        Ghana          GHA  1987  5.074830e+09\n",
       "5472        Ghana          GHA  1988  5.197841e+09\n",
       "5473        Ghana          GHA  1989  5.251764e+09\n",
       "5474        Ghana          GHA  1990  5.889175e+09\n",
       "5475        Ghana          GHA  1991  6.596546e+09\n",
       "5476        Ghana          GHA  1992  6.413902e+09\n",
       "5477        Ghana          GHA  1993  5.966256e+09\n",
       "5478        Ghana          GHA  1994  5.444561e+09\n",
       "5479        Ghana          GHA  1995  6.465138e+09\n",
       "5480        Ghana          GHA  1996  6.934985e+09\n",
       "5481        Ghana          GHA  1997  6.891309e+09\n",
       "5482        Ghana          GHA  1998  7.480969e+09\n",
       "5483        Ghana          GHA  1999  7.719355e+09\n",
       "5484        Ghana          GHA  2000  4.983024e+09\n",
       "5485        Ghana          GHA  2001  5.314910e+09\n",
       "5486        Ghana          GHA  2002  6.166330e+09\n",
       "5487        Ghana          GHA  2003  7.632407e+09\n",
       "5488        Ghana          GHA  2004  8.881369e+09\n",
       "5489        Ghana          GHA  2005  1.073163e+10\n",
       "5490        Ghana          GHA  2006  2.040926e+10\n",
       "5491        Ghana          GHA  2007  2.475882e+10\n",
       "5492        Ghana          GHA  2008  2.852689e+10\n",
       "5493        Ghana          GHA  2009  2.597785e+10\n",
       "5494        Ghana          GHA  2010  3.217477e+10\n",
       "5495        Ghana          GHA  2011  3.956629e+10\n",
       "5496        Ghana          GHA  2012  4.193973e+10\n",
       "5497        Ghana          GHA  2013  4.780507e+10\n",
       "5498        Ghana          GHA  2014  3.861654e+10\n",
       "5499        Ghana          GHA  2015  3.754336e+10\n",
       "5500        Ghana          GHA  2016  4.268978e+10"
      ]
     },
     "execution_count": 71,
     "metadata": {},
     "output_type": "execute_result"
    }
   ],
   "source": [
    "# Filter data for Ghana\n",
    "ghana_data = west_africa_df[west_africa_df['Country Name'] == 'Ghana']\n",
    "ghana_data"
   ]
  },
  {
   "cell_type": "code",
   "execution_count": 72,
   "metadata": {},
   "outputs": [
    {
     "name": "stdout",
     "output_type": "stream",
     "text": [
      "Unique years available for Ghana: [1960 1961 1962 1963 1964 1965 1966 1967 1968 1969 1970 1971 1972 1973\n",
      " 1974 1975 1976 1977 1978 1979 1980 1981 1982 1983 1984 1985 1986 1987\n",
      " 1988 1989 1990 1991 1992 1993 1994 1995 1996 1997 1998 1999 2000 2001\n",
      " 2002 2003 2004 2005 2006 2007 2008 2009 2010 2011 2012 2013 2014 2015\n",
      " 2016]\n"
     ]
    }
   ],
   "source": [
    "# 3. What are the unique years available for Ghana?\n",
    "ghana_unique_years = ghana_data['Year'].unique()\n",
    "print(\"Unique years available for Ghana:\", ghana_unique_years)"
   ]
  },
  {
   "cell_type": "code",
   "execution_count": null,
   "metadata": {},
   "outputs": [],
   "source": []
  },
  {
   "cell_type": "code",
   "execution_count": null,
   "metadata": {},
   "outputs": [],
   "source": []
  },
  {
   "cell_type": "code",
   "execution_count": 77,
   "metadata": {},
   "outputs": [
    {
     "name": "stdout",
     "output_type": "stream",
     "text": [
      "Total value by year in Ghana:\n",
      " Year\n",
      "1960    1.217230e+09\n",
      "1961    1.302674e+09\n",
      "1962    1.382516e+09\n",
      "1963    1.540798e+09\n",
      "1964    1.731296e+09\n",
      "1965    2.053463e+09\n",
      "1966    2.126301e+09\n",
      "1967    1.747188e+09\n",
      "1968    1.666910e+09\n",
      "1969    1.962051e+09\n",
      "1970    2.215029e+09\n",
      "1971    2.417109e+09\n",
      "1972    2.112293e+09\n",
      "1973    2.465493e+09\n",
      "1974    2.894410e+09\n",
      "1975    2.810106e+09\n",
      "1976    2.765254e+09\n",
      "1977    3.189429e+09\n",
      "1978    3.662478e+09\n",
      "1979    4.020228e+09\n",
      "1980    4.445228e+09\n",
      "1981    4.222442e+09\n",
      "1982    4.035994e+09\n",
      "1983    4.057275e+09\n",
      "1984    4.412280e+09\n",
      "1985    4.504342e+09\n",
      "1986    5.727603e+09\n",
      "1987    5.074830e+09\n",
      "1988    5.197841e+09\n",
      "1989    5.251764e+09\n",
      "1990    5.889175e+09\n",
      "1991    6.596546e+09\n",
      "1992    6.413902e+09\n",
      "1993    5.966256e+09\n",
      "1994    5.444561e+09\n",
      "1995    6.465138e+09\n",
      "1996    6.934985e+09\n",
      "1997    6.891309e+09\n",
      "1998    7.480969e+09\n",
      "1999    7.719355e+09\n",
      "2000    4.983024e+09\n",
      "2001    5.314910e+09\n",
      "2002    6.166330e+09\n",
      "2003    7.632407e+09\n",
      "2004    8.881369e+09\n",
      "2005    1.073163e+10\n",
      "2006    2.040926e+10\n",
      "2007    2.475882e+10\n",
      "2008    2.852689e+10\n",
      "2009    2.597785e+10\n",
      "2010    3.217477e+10\n",
      "2011    3.956629e+10\n",
      "2012    4.193973e+10\n",
      "2013    4.780507e+10\n",
      "2014    3.861654e+10\n",
      "2015    3.754336e+10\n",
      "2016    4.268978e+10\n",
      "Name: Value, dtype: float64\n"
     ]
    },
    {
     "data": {
      "image/png": "[encoded data removed]",
      "text/plain": [
       "<Figure size 720x432 with 1 Axes>"
      ]
     },
     "metadata": {
      "needs_background": "light"
     },
     "output_type": "display_data"
    }
   ],
   "source": [
    "# 4. What is the total value for each year in Ghana?\n",
    "ghana_total_value_by_year = ghana_data.groupby('Year')['Value'].sum()\n",
    "print(\"Total value by year in Ghana:\\n\", ghana_total_value_by_year)\n",
    "\n",
    "# Line plot: Total Value by Year in Ghana\n",
    "plt.figure(figsize=(10, 6))\n",
    "plt.plot(ghana_total_value_by_year.index, ghana_total_value_by_year.values)\n",
    "plt.title(\"Total Value by Year in Ghana\")\n",
    "plt.xlabel(\"Year\")\n",
    "plt.ylabel(\"Value\")\n",
    "plt.show()"
   ]
  },
  {
   "cell_type": "code",
   "execution_count": null,
   "metadata": {},
   "outputs": [],
   "source": []
  },
  {
   "cell_type": "code",
   "execution_count": 75,
   "metadata": {},
   "outputs": [
    {
     "name": "stdout",
     "output_type": "stream",
     "text": [
      "Unique years available for Ghana: [1960 1961 1962 1963 1964 1965 1966 1967 1968 1969 1970 1971 1972 1973\n",
      " 1974 1975 1976 1977 1978 1979 1980 1981 1982 1983 1984 1985 1986 1987\n",
      " 1988 1989 1990 1991 1992 1993 1994 1995 1996 1997 1998 1999 2000 2001\n",
      " 2002 2003 2004 2005 2006 2007 2008 2009 2010 2011 2012 2013 2014 2015\n",
      " 2016]\n",
      "Unique years available for Nigeria: [1960 1961 1962 1963 1964 1965 1966 1967 1968 1969 1970 1971 1972 1973\n",
      " 1974 1975 1976 1977 1978 1979 1980 1981 1982 1983 1984 1985 1986 1987\n",
      " 1988 1989 1990 1991 1992 1993 1994 1995 1996 1997 1998 1999 2000 2001\n",
      " 2002 2003 2004 2005 2006 2007 2008 2009 2010 2011 2012 2013 2014 2015\n",
      " 2016]\n"
     ]
    }
   ],
   "source": [
    "# Filter data for Ghana\n",
    "ghana_data = west_africa_df[west_africa_df['Country Name'] == 'Ghana']\n",
    "\n",
    "# Filter data for Nigeria\n",
    "nigeria_data = west_africa_df[west_africa_df['Country Name'] == 'Nigeria']\n",
    "\n",
    "# 1. What are the unique years available for Ghana and Nigeria?\n",
    "ghana_unique_years = ghana_data['Year'].unique()\n",
    "nigeria_unique_years = nigeria_data['Year'].unique()\n",
    "print(\"Unique years available for Ghana:\", ghana_unique_years)\n",
    "print(\"Unique years available for Nigeria:\", nigeria_unique_years)\n"
   ]
  },
  {
   "cell_type": "code",
   "execution_count": 76,
   "metadata": {},
   "outputs": [
    {
     "data": {
      "image/png": "[encoded data removed]",
      "text/plain": [
       "<Figure size 720x432 with 1 Axes>"
      ]
     },
     "metadata": {
      "needs_background": "light"
     },
     "output_type": "display_data"
    }
   ],
   "source": [
    "# 2. What is the value for Ghana and Nigeria in each year?\n",
    "ghana_value_by_year = ghana_data.groupby('Year')['Value'].sum()\n",
    "nigeria_value_by_year = nigeria_data.groupby('Year')['Value'].sum()\n",
    "\n",
    "# Line plot: Value by Year for Ghana and Nigeria\n",
    "plt.figure(figsize=(10, 6))\n",
    "plt.plot(ghana_value_by_year.index, ghana_value_by_year.values, label='Ghana')\n",
    "plt.plot(nigeria_value_by_year.index, nigeria_value_by_year.values, label='Nigeria')\n",
    "plt.title(\"Value by Year for Ghana and Nigeria\")\n",
    "plt.xlabel(\"Year\")\n",
    "plt.ylabel(\"Value\")\n",
    "plt.legend()\n",
    "plt.show()"
   ]
  },
  {
   "cell_type": "code",
   "execution_count": null,
   "metadata": {},
   "outputs": [],
   "source": []
  },
  {
   "cell_type": "code",
   "execution_count": null,
   "metadata": {},
   "outputs": [],
   "source": []
  },
  {
   "cell_type": "code",
   "execution_count": null,
   "metadata": {},
   "outputs": [],
   "source": []
  },
  {
   "cell_type": "code",
   "execution_count": null,
   "metadata": {},
   "outputs": [],
   "source": []
  },
  {
   "cell_type": "code",
   "execution_count": null,
   "metadata": {},
   "outputs": [],
   "source": []
  },
  {
   "cell_type": "code",
   "execution_count": null,
   "metadata": {},
   "outputs": [],
   "source": []
  },
  {
   "cell_type": "code",
   "execution_count": null,
   "metadata": {},
   "outputs": [],
   "source": []
  },
  {
   "cell_type": "code",
   "execution_count": null,
   "metadata": {},
   "outputs": [],
   "source": []
  },
  {
   "cell_type": "code",
   "execution_count": null,
   "metadata": {},
   "outputs": [],
   "source": []
  }
 ],
 "metadata": {
  "kernelspec": {
   "display_name": "Python 3",
   "language": "python",
   "name": "python3"
  },
  "language_info": {
   "codemirror_mode": {
    "name": "ipython",
    "version": 3
   },
   "file_extension": ".py",
   "mimetype": "text/x-python",
   "name": "python",
   "nbconvert_exporter": "python",
   "pygments_lexer": "ipython3",
   "version": "3.7.4"
  }
 },
 "nbformat": 4,
 "nbformat_minor": 2
}
